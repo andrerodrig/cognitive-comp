{
 "cells": [
  {
   "cell_type": "markdown",
   "metadata": {},
   "source": [
    "# Tokenization and segmentation"
   ]
  },
  {
   "cell_type": "code",
   "execution_count": 4,
   "metadata": {},
   "outputs": [
    {
     "name": "stderr",
     "output_type": "stream",
     "text": [
      "Downloading https://raw.githubusercontent.com/stanfordnlp/stanza-resources/main/resources_1.4.0.json: 154kB [00:00, 32.5MB/s]                    \n",
      "2022-05-12 00:29:34 INFO: Loading these models for language: en (English):\n",
      "========================\n",
      "| Processor | Package  |\n",
      "------------------------\n",
      "| tokenize  | combined |\n",
      "========================\n",
      "\n",
      "2022-05-12 00:29:34 INFO: Use device: gpu\n",
      "2022-05-12 00:29:34 INFO: Loading: tokenize\n",
      "2022-05-12 00:29:34 INFO: Done loading processors!\n"
     ]
    },
    {
     "name": "stdout",
     "output_type": "stream",
     "text": [
      "------ Tokens for sentence 1 ------\n",
      "id: 1\ttext: This\n",
      "id: 2\ttext: is\n",
      "id: 3\ttext: a\n",
      "id: 4\ttext: test\n",
      "id: 5\ttext: sentence\n",
      "id: 6\ttext: for\n",
      "id: 7\ttext: stanza\n",
      "id: 8\ttext: .\n",
      "------ Tokens for sentence 2 ------\n",
      "id: 1\ttext: This\n",
      "id: 2\ttext: is\n",
      "id: 3\ttext: another\n",
      "id: 4\ttext: sentence\n",
      "id: 5\ttext: .\n"
     ]
    }
   ],
   "source": [
    "import stanza\n",
    "\n",
    "nlp = stanza.Pipeline(lang='en', processors='tokenize')\n",
    "doc = nlp('This is a test sentence for stanza. This is another sentence.')\n",
    "\n",
    "for i, sentence in enumerate(doc.sentences):\n",
    "    print(f'------ Tokens for sentence {i + 1} ------')\n",
    "    print(*[f'id: {token.id[0]}\\ttext: {token.text}' for token in sentence.tokens], sep='\\n')"
   ]
  },
  {
   "cell_type": "code",
   "execution_count": 5,
   "metadata": {},
   "outputs": [
    {
     "name": "stdout",
     "output_type": "stream",
     "text": [
      "['This is a test sentence for stanza.', 'This is another sentence.']\n"
     ]
    }
   ],
   "source": [
    "print([sentence.text for sentence in doc.sentences])"
   ]
  },
  {
   "cell_type": "markdown",
   "metadata": {},
   "source": [
    "### Tokenization without sentence segmentation"
   ]
  },
  {
   "cell_type": "code",
   "execution_count": 7,
   "metadata": {},
   "outputs": [
    {
     "name": "stderr",
     "output_type": "stream",
     "text": [
      "Downloading https://raw.githubusercontent.com/stanfordnlp/stanza-resources/main/resources_1.4.0.json: 154kB [00:00, 54.3MB/s]                    \n",
      "2022-05-12 00:34:05 INFO: Loading these models for language: en (English):\n",
      "========================\n",
      "| Processor | Package  |\n",
      "------------------------\n",
      "| tokenize  | combined |\n",
      "========================\n",
      "\n",
      "2022-05-12 00:34:05 INFO: Use device: gpu\n",
      "2022-05-12 00:34:05 INFO: Loading: tokenize\n",
      "2022-05-12 00:34:05 INFO: Done loading processors!\n"
     ]
    },
    {
     "name": "stdout",
     "output_type": "stream",
     "text": [
      "------ Tokens for sentence 1 ------\n",
      "id: 1\ttext: This\n",
      "id: 2\ttext: is\n",
      "id: 3\ttext: a\n",
      "id: 4\ttext: sentence\n",
      "id: 5\ttext: .\n",
      "------ Tokens for sentence 2 ------\n",
      "id: 1\ttext: This\n",
      "id: 2\ttext: is\n",
      "id: 3\ttext: a\n",
      "id: 4\ttext: second\n",
      "id: 5\ttext: .\n",
      "id: 6\ttext: This\n",
      "id: 7\ttext: is\n",
      "id: 8\ttext: a\n",
      "id: 9\ttext: third\n",
      "id: 10\ttext: .\n"
     ]
    }
   ],
   "source": [
    "nlp = stanza.Pipeline(\n",
    "    lang='en',\n",
    "    processors='tokenize',\n",
    "    tokenize_no_ssplit=True\n",
    ")\n",
    "doc = nlp('This is a sentence.\\n\\nThis is a second. This is a third.')\n",
    "for i, sentence in enumerate(doc.sentences):\n",
    "    print(f'------ Tokens for sentence {i + 1} ------')\n",
    "    print(*[f'id: {token.id[0]}\\ttext: {token.text}' for token in sentence.tokens], sep='\\n')\n",
    "    "
   ]
  },
  {
   "cell_type": "code",
   "execution_count": 11,
   "metadata": {},
   "outputs": [
    {
     "name": "stderr",
     "output_type": "stream",
     "text": [
      "Downloading https://raw.githubusercontent.com/stanfordnlp/stanza-resources/main/resources_1.4.0.json: 154kB [00:00, 51.3MB/s]                    \n",
      "2022-05-12 00:37:46 INFO: Loading these models for language: en (English):\n",
      "========================\n",
      "| Processor | Package  |\n",
      "------------------------\n",
      "| tokenize  | combined |\n",
      "========================\n",
      "\n",
      "2022-05-12 00:37:46 INFO: Use device: gpu\n",
      "2022-05-12 00:37:46 INFO: Loading: tokenize\n",
      "2022-05-12 00:37:46 INFO: Done loading processors!\n"
     ]
    },
    {
     "name": "stdout",
     "output_type": "stream",
     "text": [
      "------ Tokens for sentence 1 ------\n",
      "id: 1\ttext: This\n",
      "id: 2\ttext: is\n",
      "id: 3\ttext: token.ization\n",
      "id: 4\ttext: done\n",
      "id: 5\ttext: my\n",
      "id: 6\ttext: way!\n",
      "------ Tokens for sentence 2 ------\n",
      "id: 1\ttext: Sentence\n",
      "id: 2\ttext: split,\n",
      "id: 3\ttext: too!\n"
     ]
    }
   ],
   "source": [
    "nlp = stanza.Pipeline(\n",
    "    lang='en',\n",
    "    processors='tokenize',\n",
    "    tokenize_pretokenized=True\n",
    ")\n",
    "doc = nlp(' This is token.ization done my way!\\nSentence split, too!')\n",
    "for i, sentence in enumerate(doc.sentences):\n",
    "    print(f'------ Tokens for sentence {i + 1} ------')\n",
    "    print(*[f'id: {token.id[0]}\\ttext: {token.text}' for token in sentence.tokens], sep='\\n')"
   ]
  },
  {
   "cell_type": "code",
   "execution_count": null,
   "metadata": {},
   "outputs": [],
   "source": []
  }
 ],
 "metadata": {
  "interpreter": {
   "hash": "fca6c73b58ab3ce0c9eaa4c8319f6606e3208a9d041ba918cae0d7faece15993"
  },
  "kernelspec": {
   "display_name": "Python 3.8.10 ('.venv': poetry)",
   "language": "python",
   "name": "python3"
  },
  "language_info": {
   "codemirror_mode": {
    "name": "ipython",
    "version": 3
   },
   "file_extension": ".py",
   "mimetype": "text/x-python",
   "name": "python",
   "nbconvert_exporter": "python",
   "pygments_lexer": "ipython3",
   "version": "3.8.10"
  },
  "orig_nbformat": 4
 },
 "nbformat": 4,
 "nbformat_minor": 2
}
