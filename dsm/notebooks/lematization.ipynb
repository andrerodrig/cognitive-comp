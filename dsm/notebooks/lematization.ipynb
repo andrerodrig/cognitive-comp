{
 "cells": [
  {
   "cell_type": "code",
   "execution_count": 1,
   "metadata": {},
   "outputs": [
    {
     "name": "stderr",
     "output_type": "stream",
     "text": [
      "/home/aizen/dev/atlantico-academy/cognitive-comp/cognitive-comp/dsm/.venv/lib/python3.8/site-packages/tqdm/auto.py:22: TqdmWarning: IProgress not found. Please update jupyter and ipywidgets. See https://ipywidgets.readthedocs.io/en/stable/user_install.html\n",
      "  from .autonotebook import tqdm as notebook_tqdm\n",
      "Downloading https://raw.githubusercontent.com/stanfordnlp/stanza-resources/main/resources_1.4.0.json: 154kB [00:00, 48.4MB/s]                    \n",
      "2022-05-12 01:07:45 WARNING: Can not find mwt: default from official model list. Ignoring it.\n",
      "2022-05-12 01:07:45 INFO: Loading these models for language: en (English):\n",
      "========================\n",
      "| Processor | Package  |\n",
      "------------------------\n",
      "| tokenize  | combined |\n",
      "| pos       | combined |\n",
      "| lemma     | combined |\n",
      "========================\n",
      "\n",
      "2022-05-12 01:07:45 INFO: Use device: gpu\n",
      "2022-05-12 01:07:45 INFO: Loading: tokenize\n",
      "2022-05-12 01:07:49 INFO: Loading: pos\n",
      "2022-05-12 01:07:49 INFO: Loading: lemma\n",
      "2022-05-12 01:07:49 INFO: Done loading processors!\n"
     ]
    },
    {
     "name": "stdout",
     "output_type": "stream",
     "text": [
      "word: Barack \tlemma: Barack\n",
      "word: Obama \tlemma: Obama\n",
      "word: was \tlemma: be\n",
      "word: born \tlemma: bear\n",
      "word: in \tlemma: in\n",
      "word: Hawaii \tlemma: Hawaii\n"
     ]
    }
   ],
   "source": [
    "import stanza\n",
    "\n",
    "\n",
    "nlp = stanza.Pipeline(\n",
    "    lang='en',\n",
    "    processors='tokenize,mwt,pos,lemma'\n",
    ")\n",
    "doc = nlp('Barack Obama was born in Hawaii')\n",
    "print(*[f'word: {word.text} \\tlemma: {word.lemma}' for sent in doc.sentences for word in sent.words], sep='\\n')"
   ]
  },
  {
   "cell_type": "code",
   "execution_count": null,
   "metadata": {},
   "outputs": [],
   "source": []
  }
 ],
 "metadata": {
  "interpreter": {
   "hash": "fca6c73b58ab3ce0c9eaa4c8319f6606e3208a9d041ba918cae0d7faece15993"
  },
  "kernelspec": {
   "display_name": "Python 3.8.10 ('.venv': poetry)",
   "language": "python",
   "name": "python3"
  },
  "language_info": {
   "codemirror_mode": {
    "name": "ipython",
    "version": 3
   },
   "file_extension": ".py",
   "mimetype": "text/x-python",
   "name": "python",
   "nbconvert_exporter": "python",
   "pygments_lexer": "ipython3",
   "version": "3.8.10"
  },
  "orig_nbformat": 4
 },
 "nbformat": 4,
 "nbformat_minor": 2
}
