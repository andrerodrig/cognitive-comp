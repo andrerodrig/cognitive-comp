{
 "cells": [
  {
   "cell_type": "markdown",
   "metadata": {},
   "source": [
    "# DSM - Tokenização"
   ]
  },
  {
   "cell_type": "code",
   "execution_count": 2,
   "metadata": {},
   "outputs": [],
   "source": [
    "import pandas as pd\n",
    "from pathlib import Path\n",
    "from nltk.tokenize import RegexpTokenizer\n",
    "\n",
    "\n",
    "raw_data_path = Path('../data/raw/socialmedia_relevant_cols.csv')\n",
    "processed_data_path = Path('../data/processed/std_socialmedia_relevant_cols.csv')\n",
    "\n",
    "img_path = Path(\"../imgs\")\n",
    "\n",
    "\n",
    "df = pd.read_csv(processed_data_path)"
   ]
  },
  {
   "cell_type": "code",
   "execution_count": 3,
   "metadata": {},
   "outputs": [
    {
     "data": {
      "text/html": [
       "<div>\n",
       "<style scoped>\n",
       "    .dataframe tbody tr th:only-of-type {\n",
       "        vertical-align: middle;\n",
       "    }\n",
       "\n",
       "    .dataframe tbody tr th {\n",
       "        vertical-align: top;\n",
       "    }\n",
       "\n",
       "    .dataframe thead th {\n",
       "        text-align: right;\n",
       "    }\n",
       "</style>\n",
       "<table border=\"1\" class=\"dataframe\">\n",
       "  <thead>\n",
       "    <tr style=\"text-align: right;\">\n",
       "      <th></th>\n",
       "      <th>text</th>\n",
       "      <th>choose_one</th>\n",
       "      <th>class_label</th>\n",
       "    </tr>\n",
       "  </thead>\n",
       "  <tbody>\n",
       "    <tr>\n",
       "      <th>0</th>\n",
       "      <td>just happened a terrible car crash</td>\n",
       "      <td>relevant</td>\n",
       "      <td>1</td>\n",
       "    </tr>\n",
       "    <tr>\n",
       "      <th>1</th>\n",
       "      <td>our deeds are the reason of this earthquake ma...</td>\n",
       "      <td>relevant</td>\n",
       "      <td>1</td>\n",
       "    </tr>\n",
       "    <tr>\n",
       "      <th>2</th>\n",
       "      <td>heard about earthquake is different cities sta...</td>\n",
       "      <td>relevant</td>\n",
       "      <td>1</td>\n",
       "    </tr>\n",
       "    <tr>\n",
       "      <th>3</th>\n",
       "      <td>there is a forest fire at spot pond geese are ...</td>\n",
       "      <td>relevant</td>\n",
       "      <td>1</td>\n",
       "    </tr>\n",
       "    <tr>\n",
       "      <th>4</th>\n",
       "      <td>forest fire near la ronge sask canada</td>\n",
       "      <td>relevant</td>\n",
       "      <td>1</td>\n",
       "    </tr>\n",
       "    <tr>\n",
       "      <th>...</th>\n",
       "      <td>...</td>\n",
       "      <td>...</td>\n",
       "      <td>...</td>\n",
       "    </tr>\n",
       "    <tr>\n",
       "      <th>10871</th>\n",
       "      <td>m194 0104 utc5km s of volcano hawaii tcozdtoyd...</td>\n",
       "      <td>relevant</td>\n",
       "      <td>1</td>\n",
       "    </tr>\n",
       "    <tr>\n",
       "      <th>10872</th>\n",
       "      <td>police investigating after an ebike collided w...</td>\n",
       "      <td>relevant</td>\n",
       "      <td>1</td>\n",
       "    </tr>\n",
       "    <tr>\n",
       "      <th>10873</th>\n",
       "      <td>the latest more homes razed by northern califo...</td>\n",
       "      <td>relevant</td>\n",
       "      <td>1</td>\n",
       "    </tr>\n",
       "    <tr>\n",
       "      <th>10874</th>\n",
       "      <td>meg issues hazardous weather outlook hwo tco3x...</td>\n",
       "      <td>relevant</td>\n",
       "      <td>1</td>\n",
       "    </tr>\n",
       "    <tr>\n",
       "      <th>10875</th>\n",
       "      <td>cityofcalgary has activated its municipal emer...</td>\n",
       "      <td>relevant</td>\n",
       "      <td>1</td>\n",
       "    </tr>\n",
       "  </tbody>\n",
       "</table>\n",
       "<p>10876 rows × 3 columns</p>\n",
       "</div>"
      ],
      "text/plain": [
       "                                                    text choose_one  \\\n",
       "0                     just happened a terrible car crash   relevant   \n",
       "1      our deeds are the reason of this earthquake ma...   relevant   \n",
       "2      heard about earthquake is different cities sta...   relevant   \n",
       "3      there is a forest fire at spot pond geese are ...   relevant   \n",
       "4                  forest fire near la ronge sask canada   relevant   \n",
       "...                                                  ...        ...   \n",
       "10871  m194 0104 utc5km s of volcano hawaii tcozdtoyd...   relevant   \n",
       "10872  police investigating after an ebike collided w...   relevant   \n",
       "10873  the latest more homes razed by northern califo...   relevant   \n",
       "10874  meg issues hazardous weather outlook hwo tco3x...   relevant   \n",
       "10875  cityofcalgary has activated its municipal emer...   relevant   \n",
       "\n",
       "       class_label  \n",
       "0                1  \n",
       "1                1  \n",
       "2                1  \n",
       "3                1  \n",
       "4                1  \n",
       "...            ...  \n",
       "10871            1  \n",
       "10872            1  \n",
       "10873            1  \n",
       "10874            1  \n",
       "10875            1  \n",
       "\n",
       "[10876 rows x 3 columns]"
      ]
     },
     "execution_count": 3,
     "metadata": {},
     "output_type": "execute_result"
    }
   ],
   "source": [
    "df"
   ]
  },
  {
   "cell_type": "code",
   "execution_count": 4,
   "metadata": {},
   "outputs": [
    {
     "data": {
      "text/html": [
       "<div>\n",
       "<style scoped>\n",
       "    .dataframe tbody tr th:only-of-type {\n",
       "        vertical-align: middle;\n",
       "    }\n",
       "\n",
       "    .dataframe tbody tr th {\n",
       "        vertical-align: top;\n",
       "    }\n",
       "\n",
       "    .dataframe thead th {\n",
       "        text-align: right;\n",
       "    }\n",
       "</style>\n",
       "<table border=\"1\" class=\"dataframe\">\n",
       "  <thead>\n",
       "    <tr style=\"text-align: right;\">\n",
       "      <th></th>\n",
       "      <th>text</th>\n",
       "      <th>choose_one</th>\n",
       "      <th>class_label</th>\n",
       "      <th>tokens</th>\n",
       "    </tr>\n",
       "  </thead>\n",
       "  <tbody>\n",
       "    <tr>\n",
       "      <th>0</th>\n",
       "      <td>just happened a terrible car crash</td>\n",
       "      <td>relevant</td>\n",
       "      <td>1</td>\n",
       "      <td>[just, happened, a, terrible, car, crash]</td>\n",
       "    </tr>\n",
       "    <tr>\n",
       "      <th>1</th>\n",
       "      <td>our deeds are the reason of this earthquake ma...</td>\n",
       "      <td>relevant</td>\n",
       "      <td>1</td>\n",
       "      <td>[our, deeds, are, the, reason, of, this, earth...</td>\n",
       "    </tr>\n",
       "    <tr>\n",
       "      <th>2</th>\n",
       "      <td>heard about earthquake is different cities sta...</td>\n",
       "      <td>relevant</td>\n",
       "      <td>1</td>\n",
       "      <td>[heard, about, earthquake, is, different, citi...</td>\n",
       "    </tr>\n",
       "    <tr>\n",
       "      <th>3</th>\n",
       "      <td>there is a forest fire at spot pond geese are ...</td>\n",
       "      <td>relevant</td>\n",
       "      <td>1</td>\n",
       "      <td>[there, is, a, forest, fire, at, spot, pond, g...</td>\n",
       "    </tr>\n",
       "    <tr>\n",
       "      <th>4</th>\n",
       "      <td>forest fire near la ronge sask canada</td>\n",
       "      <td>relevant</td>\n",
       "      <td>1</td>\n",
       "      <td>[forest, fire, near, la, ronge, sask, canada]</td>\n",
       "    </tr>\n",
       "    <tr>\n",
       "      <th>...</th>\n",
       "      <td>...</td>\n",
       "      <td>...</td>\n",
       "      <td>...</td>\n",
       "      <td>...</td>\n",
       "    </tr>\n",
       "    <tr>\n",
       "      <th>10871</th>\n",
       "      <td>m194 0104 utc5km s of volcano hawaii tcozdtoyd...</td>\n",
       "      <td>relevant</td>\n",
       "      <td>1</td>\n",
       "      <td>[m194, 0104, utc5km, s, of, volcano, hawaii, t...</td>\n",
       "    </tr>\n",
       "    <tr>\n",
       "      <th>10872</th>\n",
       "      <td>police investigating after an ebike collided w...</td>\n",
       "      <td>relevant</td>\n",
       "      <td>1</td>\n",
       "      <td>[police, investigating, after, an, ebike, coll...</td>\n",
       "    </tr>\n",
       "    <tr>\n",
       "      <th>10873</th>\n",
       "      <td>the latest more homes razed by northern califo...</td>\n",
       "      <td>relevant</td>\n",
       "      <td>1</td>\n",
       "      <td>[the, latest, more, homes, razed, by, northern...</td>\n",
       "    </tr>\n",
       "    <tr>\n",
       "      <th>10874</th>\n",
       "      <td>meg issues hazardous weather outlook hwo tco3x...</td>\n",
       "      <td>relevant</td>\n",
       "      <td>1</td>\n",
       "      <td>[meg, issues, hazardous, weather, outlook, hwo...</td>\n",
       "    </tr>\n",
       "    <tr>\n",
       "      <th>10875</th>\n",
       "      <td>cityofcalgary has activated its municipal emer...</td>\n",
       "      <td>relevant</td>\n",
       "      <td>1</td>\n",
       "      <td>[cityofcalgary, has, activated, its, municipal...</td>\n",
       "    </tr>\n",
       "  </tbody>\n",
       "</table>\n",
       "<p>10876 rows × 4 columns</p>\n",
       "</div>"
      ],
      "text/plain": [
       "                                                    text choose_one  \\\n",
       "0                     just happened a terrible car crash   relevant   \n",
       "1      our deeds are the reason of this earthquake ma...   relevant   \n",
       "2      heard about earthquake is different cities sta...   relevant   \n",
       "3      there is a forest fire at spot pond geese are ...   relevant   \n",
       "4                  forest fire near la ronge sask canada   relevant   \n",
       "...                                                  ...        ...   \n",
       "10871  m194 0104 utc5km s of volcano hawaii tcozdtoyd...   relevant   \n",
       "10872  police investigating after an ebike collided w...   relevant   \n",
       "10873  the latest more homes razed by northern califo...   relevant   \n",
       "10874  meg issues hazardous weather outlook hwo tco3x...   relevant   \n",
       "10875  cityofcalgary has activated its municipal emer...   relevant   \n",
       "\n",
       "       class_label                                             tokens  \n",
       "0                1          [just, happened, a, terrible, car, crash]  \n",
       "1                1  [our, deeds, are, the, reason, of, this, earth...  \n",
       "2                1  [heard, about, earthquake, is, different, citi...  \n",
       "3                1  [there, is, a, forest, fire, at, spot, pond, g...  \n",
       "4                1      [forest, fire, near, la, ronge, sask, canada]  \n",
       "...            ...                                                ...  \n",
       "10871            1  [m194, 0104, utc5km, s, of, volcano, hawaii, t...  \n",
       "10872            1  [police, investigating, after, an, ebike, coll...  \n",
       "10873            1  [the, latest, more, homes, razed, by, northern...  \n",
       "10874            1  [meg, issues, hazardous, weather, outlook, hwo...  \n",
       "10875            1  [cityofcalgary, has, activated, its, municipal...  \n",
       "\n",
       "[10876 rows x 4 columns]"
      ]
     },
     "execution_count": 4,
     "metadata": {},
     "output_type": "execute_result"
    }
   ],
   "source": [
    "tokenizer = RegexpTokenizer(r'\\w+')\n",
    "df['tokens'] = df['text'].apply(tokenizer.tokenize)\n",
    "df"
   ]
  },
  {
   "cell_type": "code",
   "execution_count": 5,
   "metadata": {},
   "outputs": [],
   "source": [
    "df.to_csv('../data/processed/tokenized_std_socialmedia_relevant_cols.csv', index=False)"
   ]
  },
  {
   "cell_type": "code",
   "execution_count": 9,
   "metadata": {},
   "outputs": [],
   "source": [
    "all_words = [word for tokens in df['tokens'] for word in tokens]\n",
    "sentence_lengths = [len(tokens) for tokens in df['tokens']]\n",
    "\n",
    "vocab = sorted(list(set(all_words)))"
   ]
  },
  {
   "cell_type": "code",
   "execution_count": 10,
   "metadata": {},
   "outputs": [
    {
     "name": "stdout",
     "output_type": "stream",
     "text": [
      "Total quantity of words: 159287\n",
      "vocabulary length: 28338\n",
      "Sentence max length: 31\n"
     ]
    }
   ],
   "source": [
    "print(f'Total quantity of words: {len(all_words)}')\n",
    "print(f'vocabulary length: {len(vocab)}')\n",
    "print(f'Sentence max length: {max(sentence_lengths)}')"
   ]
  },
  {
   "cell_type": "markdown",
   "metadata": {},
   "source": [
    "### Sentence distribution per word quantity"
   ]
  },
  {
   "cell_type": "code",
   "execution_count": 11,
   "metadata": {},
   "outputs": [
    {
     "data": {
      "image/png": "[encoded data removed]",
      "text/plain": [
       "<Figure size 720x576 with 1 Axes>"
      ]
     },
     "metadata": {
      "needs_background": "light"
     },
     "output_type": "display_data"
    }
   ],
   "source": [
    "from matplotlib import pyplot as plt\n",
    "\n",
    "fig = plt.figure(figsize=(10,8))\n",
    "plt.xlabel(\"Sentence length\")\n",
    "plt.ylabel(\"Sentence number\")\n",
    "plt.hist(sentence_lengths)\n",
    "plt.savefig(img_path / 'sentence_distribution_x_word_quantity.jpg')\n"
   ]
  },
  {
   "cell_type": "code",
   "execution_count": null,
   "metadata": {},
   "outputs": [],
   "source": []
  }
 ],
 "metadata": {
  "interpreter": {
   "hash": "7b08e0ba4ed795b0b359d677fb49c31799fe600a4d4ee279d37063d647c2ea1b"
  },
  "kernelspec": {
   "display_name": "Python 3.8.10 ('.venv': poetry)",
   "language": "python",
   "name": "python3"
  },
  "language_info": {
   "codemirror_mode": {
    "name": "ipython",
    "version": 3
   },
   "file_extension": ".py",
   "mimetype": "text/x-python",
   "name": "python",
   "nbconvert_exporter": "python",
   "pygments_lexer": "ipython3",
   "version": "3.8.10"
  },
  "orig_nbformat": 4
 },
 "nbformat": 4,
 "nbformat_minor": 2
}
